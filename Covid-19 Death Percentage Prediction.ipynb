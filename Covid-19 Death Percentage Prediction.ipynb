{
 "cells": [
  {
   "cell_type": "markdown",
   "metadata": {},
   "source": [
    "## Covid-19 Death Percentage Prediction "
   ]
  },
  {
   "cell_type": "code",
   "execution_count": 1,
   "metadata": {},
   "outputs": [],
   "source": [
    "import numpy as np\n",
    "import pandas as pd\n",
    "from numpy import math\n",
    "from sklearn.model_selection import train_test_split\n",
    "from sklearn.metrics import mean_squared_error\n",
    "from sklearn.linear_model import LinearRegression\n",
    "from sklearn.tree import DecisionTreeRegressor\n",
    "from sklearn.ensemble import RandomForestRegressor\n",
    "from sklearn import metrics"
   ]
  },
  {
   "cell_type": "code",
   "execution_count": 24,
   "metadata": {},
   "outputs": [],
   "source": [
    "data = pd.read_csv(\"covidData.csv\")"
   ]
  },
  {
   "cell_type": "code",
   "execution_count": 25,
   "metadata": {
    "scrolled": false
   },
   "outputs": [
    {
     "data": {
      "text/html": [
       "<div>\n",
       "<style scoped>\n",
       "    .dataframe tbody tr th:only-of-type {\n",
       "        vertical-align: middle;\n",
       "    }\n",
       "\n",
       "    .dataframe tbody tr th {\n",
       "        vertical-align: top;\n",
       "    }\n",
       "\n",
       "    .dataframe thead th {\n",
       "        text-align: right;\n",
       "    }\n",
       "</style>\n",
       "<table border=\"1\" class=\"dataframe\">\n",
       "  <thead>\n",
       "    <tr style=\"text-align: right;\">\n",
       "      <th></th>\n",
       "      <th>newCasesByPublishDate</th>\n",
       "      <th>cumCasesByPublishDate</th>\n",
       "      <th>deathsToday</th>\n",
       "      <th>deathsTillDate</th>\n",
       "      <th>Recovered</th>\n",
       "    </tr>\n",
       "  </thead>\n",
       "  <tbody>\n",
       "    <tr>\n",
       "      <th>0</th>\n",
       "      <td>24470</td>\n",
       "      <td>5880667</td>\n",
       "      <td>95</td>\n",
       "      <td>156048</td>\n",
       "      <td>200</td>\n",
       "    </tr>\n",
       "    <tr>\n",
       "      <th>1</th>\n",
       "      <td>26144</td>\n",
       "      <td>5856528</td>\n",
       "      <td>85</td>\n",
       "      <td>155953</td>\n",
       "      <td>223</td>\n",
       "    </tr>\n",
       "    <tr>\n",
       "      <th>2</th>\n",
       "      <td>29622</td>\n",
       "      <td>5830774</td>\n",
       "      <td>94</td>\n",
       "      <td>155868</td>\n",
       "      <td>342</td>\n",
       "    </tr>\n",
       "    <tr>\n",
       "      <th>3</th>\n",
       "      <td>31117</td>\n",
       "      <td>5801561</td>\n",
       "      <td>83</td>\n",
       "      <td>155774</td>\n",
       "      <td>140</td>\n",
       "    </tr>\n",
       "    <tr>\n",
       "      <th>4</th>\n",
       "      <td>27734</td>\n",
       "      <td>5770928</td>\n",
       "      <td>77</td>\n",
       "      <td>155691</td>\n",
       "      <td>221</td>\n",
       "    </tr>\n",
       "    <tr>\n",
       "      <th>...</th>\n",
       "      <td>...</td>\n",
       "      <td>...</td>\n",
       "      <td>...</td>\n",
       "      <td>...</td>\n",
       "      <td>...</td>\n",
       "    </tr>\n",
       "    <tr>\n",
       "      <th>118</th>\n",
       "      <td>2762</td>\n",
       "      <td>4362150</td>\n",
       "      <td>44</td>\n",
       "      <td>152537</td>\n",
       "      <td>167</td>\n",
       "    </tr>\n",
       "    <tr>\n",
       "      <th>119</th>\n",
       "      <td>2297</td>\n",
       "      <td>4359388</td>\n",
       "      <td>51</td>\n",
       "      <td>152493</td>\n",
       "      <td>145</td>\n",
       "    </tr>\n",
       "    <tr>\n",
       "      <th>120</th>\n",
       "      <td>3423</td>\n",
       "      <td>4357091</td>\n",
       "      <td>40</td>\n",
       "      <td>152442</td>\n",
       "      <td>123</td>\n",
       "    </tr>\n",
       "    <tr>\n",
       "      <th>121</th>\n",
       "      <td>3402</td>\n",
       "      <td>4353668</td>\n",
       "      <td>50</td>\n",
       "      <td>152402</td>\n",
       "      <td>100</td>\n",
       "    </tr>\n",
       "    <tr>\n",
       "      <th>122</th>\n",
       "      <td>4479</td>\n",
       "      <td>4350266</td>\n",
       "      <td>62</td>\n",
       "      <td>152352</td>\n",
       "      <td>300</td>\n",
       "    </tr>\n",
       "  </tbody>\n",
       "</table>\n",
       "<p>123 rows × 5 columns</p>\n",
       "</div>"
      ],
      "text/plain": [
       "     newCasesByPublishDate  cumCasesByPublishDate  deathsToday  \\\n",
       "0                    24470                5880667           95   \n",
       "1                    26144                5856528           85   \n",
       "2                    29622                5830774           94   \n",
       "3                    31117                5801561           83   \n",
       "4                    27734                5770928           77   \n",
       "..                     ...                    ...          ...   \n",
       "118                   2762                4362150           44   \n",
       "119                   2297                4359388           51   \n",
       "120                   3423                4357091           40   \n",
       "121                   3402                4353668           50   \n",
       "122                   4479                4350266           62   \n",
       "\n",
       "     deathsTillDate  Recovered  \n",
       "0            156048        200  \n",
       "1            155953        223  \n",
       "2            155868        342  \n",
       "3            155774        140  \n",
       "4            155691        221  \n",
       "..              ...        ...  \n",
       "118          152537        167  \n",
       "119          152493        145  \n",
       "120          152442        123  \n",
       "121          152402        100  \n",
       "122          152352        300  \n",
       "\n",
       "[123 rows x 5 columns]"
      ]
     },
     "execution_count": 25,
     "metadata": {},
     "output_type": "execute_result"
    }
   ],
   "source": [
    "data"
   ]
  },
  {
   "cell_type": "code",
   "execution_count": 26,
   "metadata": {},
   "outputs": [],
   "source": [
    "data  = data.rename(columns={'newCasesByPublishDate': 'newCasesOnPublishDate'})"
   ]
  },
  {
   "cell_type": "code",
   "execution_count": 27,
   "metadata": {},
   "outputs": [
    {
     "name": "stdout",
     "output_type": "stream",
     "text": [
      "<class 'pandas.core.frame.DataFrame'>\n",
      "RangeIndex: 123 entries, 0 to 122\n",
      "Data columns (total 5 columns):\n",
      " #   Column                 Non-Null Count  Dtype\n",
      "---  ------                 --------------  -----\n",
      " 0   newCasesOnPublishDate  123 non-null    int64\n",
      " 1   cumCasesByPublishDate  123 non-null    int64\n",
      " 2   deathsToday            123 non-null    int64\n",
      " 3   deathsTillDate         123 non-null    int64\n",
      " 4   Recovered              123 non-null    int64\n",
      "dtypes: int64(5)\n",
      "memory usage: 4.9 KB\n"
     ]
    }
   ],
   "source": [
    "data.info()"
   ]
  },
  {
   "cell_type": "code",
   "execution_count": 28,
   "metadata": {},
   "outputs": [
    {
     "data": {
      "text/html": [
       "<div>\n",
       "<style scoped>\n",
       "    .dataframe tbody tr th:only-of-type {\n",
       "        vertical-align: middle;\n",
       "    }\n",
       "\n",
       "    .dataframe tbody tr th {\n",
       "        vertical-align: top;\n",
       "    }\n",
       "\n",
       "    .dataframe thead th {\n",
       "        text-align: right;\n",
       "    }\n",
       "</style>\n",
       "<table border=\"1\" class=\"dataframe\">\n",
       "  <thead>\n",
       "    <tr style=\"text-align: right;\">\n",
       "      <th></th>\n",
       "      <th>newCasesOnPublishDate</th>\n",
       "      <th>cumCasesByPublishDate</th>\n",
       "      <th>deathsToday</th>\n",
       "      <th>deathsTillDate</th>\n",
       "      <th>Recovered</th>\n",
       "    </tr>\n",
       "  </thead>\n",
       "  <tbody>\n",
       "    <tr>\n",
       "      <th>count</th>\n",
       "      <td>123.000000</td>\n",
       "      <td>1.230000e+02</td>\n",
       "      <td>123.000000</td>\n",
       "      <td>123.000000</td>\n",
       "      <td>123.000000</td>\n",
       "    </tr>\n",
       "    <tr>\n",
       "      <th>mean</th>\n",
       "      <td>12788.569106</td>\n",
       "      <td>4.707550e+06</td>\n",
       "      <td>30.552846</td>\n",
       "      <td>153893.390244</td>\n",
       "      <td>249.032520</td>\n",
       "    </tr>\n",
       "    <tr>\n",
       "      <th>std</th>\n",
       "      <td>14215.767197</td>\n",
       "      <td>4.340238e+05</td>\n",
       "      <td>21.879028</td>\n",
       "      <td>818.762377</td>\n",
       "      <td>106.152761</td>\n",
       "    </tr>\n",
       "    <tr>\n",
       "      <th>min</th>\n",
       "      <td>1649.000000</td>\n",
       "      <td>4.350266e+06</td>\n",
       "      <td>4.000000</td>\n",
       "      <td>152352.000000</td>\n",
       "      <td>100.000000</td>\n",
       "    </tr>\n",
       "    <tr>\n",
       "      <th>25%</th>\n",
       "      <td>2490.500000</td>\n",
       "      <td>4.419366e+06</td>\n",
       "      <td>14.500000</td>\n",
       "      <td>153391.000000</td>\n",
       "      <td>164.000000</td>\n",
       "    </tr>\n",
       "    <tr>\n",
       "      <th>50%</th>\n",
       "      <td>4330.000000</td>\n",
       "      <td>4.490438e+06</td>\n",
       "      <td>23.000000</td>\n",
       "      <td>153789.000000</td>\n",
       "      <td>239.000000</td>\n",
       "    </tr>\n",
       "    <tr>\n",
       "      <th>75%</th>\n",
       "      <td>24359.000000</td>\n",
       "      <td>4.841816e+06</td>\n",
       "      <td>42.500000</td>\n",
       "      <td>154281.000000</td>\n",
       "      <td>306.000000</td>\n",
       "    </tr>\n",
       "    <tr>\n",
       "      <th>max</th>\n",
       "      <td>54674.000000</td>\n",
       "      <td>5.880667e+06</td>\n",
       "      <td>95.000000</td>\n",
       "      <td>156048.000000</td>\n",
       "      <td>755.000000</td>\n",
       "    </tr>\n",
       "  </tbody>\n",
       "</table>\n",
       "</div>"
      ],
      "text/plain": [
       "       newCasesOnPublishDate  cumCasesByPublishDate  deathsToday  \\\n",
       "count             123.000000           1.230000e+02   123.000000   \n",
       "mean            12788.569106           4.707550e+06    30.552846   \n",
       "std             14215.767197           4.340238e+05    21.879028   \n",
       "min              1649.000000           4.350266e+06     4.000000   \n",
       "25%              2490.500000           4.419366e+06    14.500000   \n",
       "50%              4330.000000           4.490438e+06    23.000000   \n",
       "75%             24359.000000           4.841816e+06    42.500000   \n",
       "max             54674.000000           5.880667e+06    95.000000   \n",
       "\n",
       "       deathsTillDate   Recovered  \n",
       "count      123.000000  123.000000  \n",
       "mean    153893.390244  249.032520  \n",
       "std        818.762377  106.152761  \n",
       "min     152352.000000  100.000000  \n",
       "25%     153391.000000  164.000000  \n",
       "50%     153789.000000  239.000000  \n",
       "75%     154281.000000  306.000000  \n",
       "max     156048.000000  755.000000  "
      ]
     },
     "execution_count": 28,
     "metadata": {},
     "output_type": "execute_result"
    }
   ],
   "source": [
    "data.describe()"
   ]
  },
  {
   "cell_type": "code",
   "execution_count": 29,
   "metadata": {},
   "outputs": [
    {
     "data": {
      "text/plain": [
       "newCasesOnPublishDate    0\n",
       "cumCasesByPublishDate    0\n",
       "deathsToday              0\n",
       "deathsTillDate           0\n",
       "Recovered                0\n",
       "dtype: int64"
      ]
     },
     "execution_count": 29,
     "metadata": {},
     "output_type": "execute_result"
    }
   ],
   "source": [
    "data.isnull().sum()"
   ]
  },
  {
   "cell_type": "markdown",
   "metadata": {},
   "source": [
    "## Splitting Data"
   ]
  },
  {
   "cell_type": "code",
   "execution_count": 30,
   "metadata": {},
   "outputs": [
    {
     "name": "stdout",
     "output_type": "stream",
     "text": [
      "(123, 4)\n",
      "(123,)\n"
     ]
    }
   ],
   "source": [
    "x=data\n",
    "y=data.pop('deathsToday')\n",
    "print(x.shape)\n",
    "print(y.shape)"
   ]
  },
  {
   "cell_type": "code",
   "execution_count": 31,
   "metadata": {},
   "outputs": [],
   "source": [
    "train_x,test_x,train_y,test_y = train_test_split(x,y,test_size=0.2,random_state=4)"
   ]
  },
  {
   "cell_type": "markdown",
   "metadata": {},
   "source": [
    "## Linear Regression "
   ]
  },
  {
   "cell_type": "code",
   "execution_count": 32,
   "metadata": {},
   "outputs": [
    {
     "data": {
      "text/plain": [
       "LinearRegression()"
      ]
     },
     "execution_count": 32,
     "metadata": {},
     "output_type": "execute_result"
    }
   ],
   "source": [
    "model=LinearRegression()\n",
    "model.fit(train_x,train_y)"
   ]
  },
  {
   "cell_type": "code",
   "execution_count": 33,
   "metadata": {},
   "outputs": [
    {
     "data": {
      "text/plain": [
       "array([65.76018843, 78.58218739, 35.13291979, 53.32123041, 46.83474281,\n",
       "       15.88494874, 81.01045985, 35.64633262, 17.87263252, 45.06292275,\n",
       "       10.9922925 , 15.00194685, 23.74127739, 46.40691441, 13.78563153,\n",
       "       49.57112431, 72.38642502, 65.74688347, 20.2491987 , 34.35701112,\n",
       "       23.20843109, 27.39087859, 19.49471258, 51.14274539, 16.27983404])"
      ]
     },
     "execution_count": 33,
     "metadata": {},
     "output_type": "execute_result"
    }
   ],
   "source": [
    "prediction=model.predict(test_x)\n",
    "prediction"
   ]
  },
  {
   "cell_type": "code",
   "execution_count": 34,
   "metadata": {},
   "outputs": [
    {
     "data": {
      "text/plain": [
       "6.419931701794294"
      ]
     },
     "execution_count": 34,
     "metadata": {},
     "output_type": "execute_result"
    }
   ],
   "source": [
    "err=math.sqrt(mean_squared_error(test_y,prediction))\n",
    "err"
   ]
  },
  {
   "cell_type": "code",
   "execution_count": 35,
   "metadata": {},
   "outputs": [
    {
     "data": {
      "text/plain": [
       "0.9299151083939202"
      ]
     },
     "execution_count": 35,
     "metadata": {},
     "output_type": "execute_result"
    }
   ],
   "source": [
    "model.score(test_x,test_y)"
   ]
  },
  {
   "cell_type": "code",
   "execution_count": 36,
   "metadata": {
    "scrolled": true
   },
   "outputs": [
    {
     "data": {
      "text/html": [
       "<div>\n",
       "<style scoped>\n",
       "    .dataframe tbody tr th:only-of-type {\n",
       "        vertical-align: middle;\n",
       "    }\n",
       "\n",
       "    .dataframe tbody tr th {\n",
       "        vertical-align: top;\n",
       "    }\n",
       "\n",
       "    .dataframe thead th {\n",
       "        text-align: right;\n",
       "    }\n",
       "</style>\n",
       "<table border=\"1\" class=\"dataframe\">\n",
       "  <thead>\n",
       "    <tr style=\"text-align: right;\">\n",
       "      <th></th>\n",
       "      <th>actual</th>\n",
       "      <th>prediction</th>\n",
       "      <th>diff</th>\n",
       "    </tr>\n",
       "  </thead>\n",
       "  <tbody>\n",
       "    <tr>\n",
       "      <th>13</th>\n",
       "      <td>83</td>\n",
       "      <td>65.760188</td>\n",
       "      <td>17.239812</td>\n",
       "    </tr>\n",
       "    <tr>\n",
       "      <th>2</th>\n",
       "      <td>94</td>\n",
       "      <td>78.582187</td>\n",
       "      <td>15.417813</td>\n",
       "    </tr>\n",
       "    <tr>\n",
       "      <th>25</th>\n",
       "      <td>35</td>\n",
       "      <td>35.132920</td>\n",
       "      <td>-0.132920</td>\n",
       "    </tr>\n",
       "    <tr>\n",
       "      <th>16</th>\n",
       "      <td>52</td>\n",
       "      <td>53.321230</td>\n",
       "      <td>-1.321230</td>\n",
       "    </tr>\n",
       "    <tr>\n",
       "      <th>19</th>\n",
       "      <td>48</td>\n",
       "      <td>46.834743</td>\n",
       "      <td>1.165257</td>\n",
       "    </tr>\n",
       "    <tr>\n",
       "      <th>41</th>\n",
       "      <td>12</td>\n",
       "      <td>15.884949</td>\n",
       "      <td>-3.884949</td>\n",
       "    </tr>\n",
       "    <tr>\n",
       "      <th>5</th>\n",
       "      <td>74</td>\n",
       "      <td>81.010460</td>\n",
       "      <td>-7.010460</td>\n",
       "    </tr>\n",
       "    <tr>\n",
       "      <th>24</th>\n",
       "      <td>40</td>\n",
       "      <td>35.646333</td>\n",
       "      <td>4.353667</td>\n",
       "    </tr>\n",
       "    <tr>\n",
       "      <th>83</th>\n",
       "      <td>8</td>\n",
       "      <td>17.872633</td>\n",
       "      <td>-9.872633</td>\n",
       "    </tr>\n",
       "    <tr>\n",
       "      <th>20</th>\n",
       "      <td>39</td>\n",
       "      <td>45.062923</td>\n",
       "      <td>-6.062923</td>\n",
       "    </tr>\n",
       "    <tr>\n",
       "      <th>65</th>\n",
       "      <td>13</td>\n",
       "      <td>10.992292</td>\n",
       "      <td>2.007708</td>\n",
       "    </tr>\n",
       "    <tr>\n",
       "      <th>80</th>\n",
       "      <td>15</td>\n",
       "      <td>15.001947</td>\n",
       "      <td>-0.001947</td>\n",
       "    </tr>\n",
       "    <tr>\n",
       "      <th>34</th>\n",
       "      <td>18</td>\n",
       "      <td>23.741277</td>\n",
       "      <td>-5.741277</td>\n",
       "    </tr>\n",
       "    <tr>\n",
       "      <th>116</th>\n",
       "      <td>44</td>\n",
       "      <td>46.406914</td>\n",
       "      <td>-2.406914</td>\n",
       "    </tr>\n",
       "    <tr>\n",
       "      <th>78</th>\n",
       "      <td>14</td>\n",
       "      <td>13.785632</td>\n",
       "      <td>0.214368</td>\n",
       "    </tr>\n",
       "    <tr>\n",
       "      <th>118</th>\n",
       "      <td>44</td>\n",
       "      <td>49.571124</td>\n",
       "      <td>-5.571124</td>\n",
       "    </tr>\n",
       "    <tr>\n",
       "      <th>10</th>\n",
       "      <td>82</td>\n",
       "      <td>72.386425</td>\n",
       "      <td>9.613575</td>\n",
       "    </tr>\n",
       "    <tr>\n",
       "      <th>12</th>\n",
       "      <td>63</td>\n",
       "      <td>65.746883</td>\n",
       "      <td>-2.746883</td>\n",
       "    </tr>\n",
       "    <tr>\n",
       "      <th>93</th>\n",
       "      <td>16</td>\n",
       "      <td>20.249199</td>\n",
       "      <td>-4.249199</td>\n",
       "    </tr>\n",
       "    <tr>\n",
       "      <th>26</th>\n",
       "      <td>33</td>\n",
       "      <td>34.357011</td>\n",
       "      <td>-1.357011</td>\n",
       "    </tr>\n",
       "    <tr>\n",
       "      <th>98</th>\n",
       "      <td>25</td>\n",
       "      <td>23.208431</td>\n",
       "      <td>1.791569</td>\n",
       "    </tr>\n",
       "    <tr>\n",
       "      <th>102</th>\n",
       "      <td>35</td>\n",
       "      <td>27.390879</td>\n",
       "      <td>7.609121</td>\n",
       "    </tr>\n",
       "    <tr>\n",
       "      <th>86</th>\n",
       "      <td>17</td>\n",
       "      <td>19.494713</td>\n",
       "      <td>-2.494713</td>\n",
       "    </tr>\n",
       "    <tr>\n",
       "      <th>119</th>\n",
       "      <td>51</td>\n",
       "      <td>51.142745</td>\n",
       "      <td>-0.142745</td>\n",
       "    </tr>\n",
       "    <tr>\n",
       "      <th>85</th>\n",
       "      <td>20</td>\n",
       "      <td>16.279834</td>\n",
       "      <td>3.720166</td>\n",
       "    </tr>\n",
       "  </tbody>\n",
       "</table>\n",
       "</div>"
      ],
      "text/plain": [
       "     actual  prediction       diff\n",
       "13       83   65.760188  17.239812\n",
       "2        94   78.582187  15.417813\n",
       "25       35   35.132920  -0.132920\n",
       "16       52   53.321230  -1.321230\n",
       "19       48   46.834743   1.165257\n",
       "41       12   15.884949  -3.884949\n",
       "5        74   81.010460  -7.010460\n",
       "24       40   35.646333   4.353667\n",
       "83        8   17.872633  -9.872633\n",
       "20       39   45.062923  -6.062923\n",
       "65       13   10.992292   2.007708\n",
       "80       15   15.001947  -0.001947\n",
       "34       18   23.741277  -5.741277\n",
       "116      44   46.406914  -2.406914\n",
       "78       14   13.785632   0.214368\n",
       "118      44   49.571124  -5.571124\n",
       "10       82   72.386425   9.613575\n",
       "12       63   65.746883  -2.746883\n",
       "93       16   20.249199  -4.249199\n",
       "26       33   34.357011  -1.357011\n",
       "98       25   23.208431   1.791569\n",
       "102      35   27.390879   7.609121\n",
       "86       17   19.494713  -2.494713\n",
       "119      51   51.142745  -0.142745\n",
       "85       20   16.279834   3.720166"
      ]
     },
     "execution_count": 36,
     "metadata": {},
     "output_type": "execute_result"
    }
   ],
   "source": [
    "df=pd.DataFrame({'actual':test_y,'prediction':prediction,'diff':(test_y-prediction)})\n",
    "df"
   ]
  },
  {
   "cell_type": "code",
   "execution_count": 37,
   "metadata": {},
   "outputs": [
    {
     "name": "stdout",
     "output_type": "stream",
     "text": [
      "57\n",
      "4179\n"
     ]
    }
   ],
   "source": [
    "test1=np.array([4479,4350266,152352,300])\n",
    "test1=test1.reshape(1,-1)\n",
    "t1=model.predict(test1)\n",
    "n1=t1[0]\n",
    "d1=test1[0][0]-test1[0][3]\n",
    "print(round(n1))\n",
    "print(d1) "
   ]
  },
  {
   "cell_type": "code",
   "execution_count": 38,
   "metadata": {},
   "outputs": [
    {
     "name": "stdout",
     "output_type": "stream",
     "text": [
      "Death percentage predicted for given data is 1.35\n"
     ]
    }
   ],
   "source": [
    "print('Death percentage predicted for given data is',round(((n1/d1)*100),2))"
   ]
  },
  {
   "cell_type": "markdown",
   "metadata": {},
   "source": [
    "## DecisionTree Regressor "
   ]
  },
  {
   "cell_type": "code",
   "execution_count": 39,
   "metadata": {},
   "outputs": [
    {
     "data": {
      "text/plain": [
       "DecisionTreeRegressor(random_state=0)"
      ]
     },
     "execution_count": 39,
     "metadata": {},
     "output_type": "execute_result"
    }
   ],
   "source": [
    "regressor=DecisionTreeRegressor(random_state=0)\n",
    "regressor.fit(train_x,train_y)"
   ]
  },
  {
   "cell_type": "code",
   "execution_count": 40,
   "metadata": {},
   "outputs": [
    {
     "data": {
      "text/plain": [
       "9.658157174119708"
      ]
     },
     "execution_count": 40,
     "metadata": {},
     "output_type": "execute_result"
    }
   ],
   "source": [
    "prediction2=regressor.predict(test_x)\n",
    "err=math.sqrt(mean_squared_error(test_y,prediction2))\n",
    "err"
   ]
  },
  {
   "cell_type": "code",
   "execution_count": 41,
   "metadata": {
    "scrolled": true
   },
   "outputs": [
    {
     "data": {
      "text/html": [
       "<div>\n",
       "<style scoped>\n",
       "    .dataframe tbody tr th:only-of-type {\n",
       "        vertical-align: middle;\n",
       "    }\n",
       "\n",
       "    .dataframe tbody tr th {\n",
       "        vertical-align: top;\n",
       "    }\n",
       "\n",
       "    .dataframe thead th {\n",
       "        text-align: right;\n",
       "    }\n",
       "</style>\n",
       "<table border=\"1\" class=\"dataframe\">\n",
       "  <thead>\n",
       "    <tr style=\"text-align: right;\">\n",
       "      <th></th>\n",
       "      <th>actual</th>\n",
       "      <th>prediction</th>\n",
       "      <th>diff</th>\n",
       "    </tr>\n",
       "  </thead>\n",
       "  <tbody>\n",
       "    <tr>\n",
       "      <th>13</th>\n",
       "      <td>83</td>\n",
       "      <td>57.0</td>\n",
       "      <td>26.0</td>\n",
       "    </tr>\n",
       "    <tr>\n",
       "      <th>2</th>\n",
       "      <td>94</td>\n",
       "      <td>85.0</td>\n",
       "      <td>9.0</td>\n",
       "    </tr>\n",
       "    <tr>\n",
       "      <th>25</th>\n",
       "      <td>35</td>\n",
       "      <td>28.0</td>\n",
       "      <td>7.0</td>\n",
       "    </tr>\n",
       "    <tr>\n",
       "      <th>16</th>\n",
       "      <td>52</td>\n",
       "      <td>69.0</td>\n",
       "      <td>-17.0</td>\n",
       "    </tr>\n",
       "    <tr>\n",
       "      <th>19</th>\n",
       "      <td>48</td>\n",
       "      <td>35.0</td>\n",
       "      <td>13.0</td>\n",
       "    </tr>\n",
       "    <tr>\n",
       "      <th>41</th>\n",
       "      <td>12</td>\n",
       "      <td>16.0</td>\n",
       "      <td>-4.0</td>\n",
       "    </tr>\n",
       "    <tr>\n",
       "      <th>5</th>\n",
       "      <td>74</td>\n",
       "      <td>75.0</td>\n",
       "      <td>-1.0</td>\n",
       "    </tr>\n",
       "    <tr>\n",
       "      <th>24</th>\n",
       "      <td>40</td>\n",
       "      <td>47.0</td>\n",
       "      <td>-7.0</td>\n",
       "    </tr>\n",
       "    <tr>\n",
       "      <th>83</th>\n",
       "      <td>8</td>\n",
       "      <td>10.0</td>\n",
       "      <td>-2.0</td>\n",
       "    </tr>\n",
       "    <tr>\n",
       "      <th>20</th>\n",
       "      <td>39</td>\n",
       "      <td>35.0</td>\n",
       "      <td>4.0</td>\n",
       "    </tr>\n",
       "    <tr>\n",
       "      <th>65</th>\n",
       "      <td>13</td>\n",
       "      <td>8.0</td>\n",
       "      <td>5.0</td>\n",
       "    </tr>\n",
       "    <tr>\n",
       "      <th>80</th>\n",
       "      <td>15</td>\n",
       "      <td>4.0</td>\n",
       "      <td>11.0</td>\n",
       "    </tr>\n",
       "    <tr>\n",
       "      <th>34</th>\n",
       "      <td>18</td>\n",
       "      <td>17.0</td>\n",
       "      <td>1.0</td>\n",
       "    </tr>\n",
       "    <tr>\n",
       "      <th>116</th>\n",
       "      <td>44</td>\n",
       "      <td>45.0</td>\n",
       "      <td>-1.0</td>\n",
       "    </tr>\n",
       "    <tr>\n",
       "      <th>78</th>\n",
       "      <td>14</td>\n",
       "      <td>11.0</td>\n",
       "      <td>3.0</td>\n",
       "    </tr>\n",
       "    <tr>\n",
       "      <th>118</th>\n",
       "      <td>44</td>\n",
       "      <td>45.0</td>\n",
       "      <td>-1.0</td>\n",
       "    </tr>\n",
       "    <tr>\n",
       "      <th>10</th>\n",
       "      <td>82</td>\n",
       "      <td>57.0</td>\n",
       "      <td>25.0</td>\n",
       "    </tr>\n",
       "    <tr>\n",
       "      <th>12</th>\n",
       "      <td>63</td>\n",
       "      <td>57.0</td>\n",
       "      <td>6.0</td>\n",
       "    </tr>\n",
       "    <tr>\n",
       "      <th>93</th>\n",
       "      <td>16</td>\n",
       "      <td>15.0</td>\n",
       "      <td>1.0</td>\n",
       "    </tr>\n",
       "    <tr>\n",
       "      <th>26</th>\n",
       "      <td>33</td>\n",
       "      <td>28.0</td>\n",
       "      <td>5.0</td>\n",
       "    </tr>\n",
       "    <tr>\n",
       "      <th>98</th>\n",
       "      <td>25</td>\n",
       "      <td>21.0</td>\n",
       "      <td>4.0</td>\n",
       "    </tr>\n",
       "    <tr>\n",
       "      <th>102</th>\n",
       "      <td>35</td>\n",
       "      <td>33.0</td>\n",
       "      <td>2.0</td>\n",
       "    </tr>\n",
       "    <tr>\n",
       "      <th>86</th>\n",
       "      <td>17</td>\n",
       "      <td>17.0</td>\n",
       "      <td>0.0</td>\n",
       "    </tr>\n",
       "    <tr>\n",
       "      <th>119</th>\n",
       "      <td>51</td>\n",
       "      <td>45.0</td>\n",
       "      <td>6.0</td>\n",
       "    </tr>\n",
       "    <tr>\n",
       "      <th>85</th>\n",
       "      <td>20</td>\n",
       "      <td>11.0</td>\n",
       "      <td>9.0</td>\n",
       "    </tr>\n",
       "  </tbody>\n",
       "</table>\n",
       "</div>"
      ],
      "text/plain": [
       "     actual  prediction  diff\n",
       "13       83        57.0  26.0\n",
       "2        94        85.0   9.0\n",
       "25       35        28.0   7.0\n",
       "16       52        69.0 -17.0\n",
       "19       48        35.0  13.0\n",
       "41       12        16.0  -4.0\n",
       "5        74        75.0  -1.0\n",
       "24       40        47.0  -7.0\n",
       "83        8        10.0  -2.0\n",
       "20       39        35.0   4.0\n",
       "65       13         8.0   5.0\n",
       "80       15         4.0  11.0\n",
       "34       18        17.0   1.0\n",
       "116      44        45.0  -1.0\n",
       "78       14        11.0   3.0\n",
       "118      44        45.0  -1.0\n",
       "10       82        57.0  25.0\n",
       "12       63        57.0   6.0\n",
       "93       16        15.0   1.0\n",
       "26       33        28.0   5.0\n",
       "98       25        21.0   4.0\n",
       "102      35        33.0   2.0\n",
       "86       17        17.0   0.0\n",
       "119      51        45.0   6.0\n",
       "85       20        11.0   9.0"
      ]
     },
     "execution_count": 41,
     "metadata": {},
     "output_type": "execute_result"
    }
   ],
   "source": [
    "pd.DataFrame({'actual':test_y,'prediction':prediction2,'diff':(test_y-prediction2)})"
   ]
  },
  {
   "cell_type": "code",
   "execution_count": 42,
   "metadata": {},
   "outputs": [
    {
     "data": {
      "text/plain": [
       "0.8413821248809685"
      ]
     },
     "execution_count": 42,
     "metadata": {},
     "output_type": "execute_result"
    }
   ],
   "source": [
    "regressor.score(test_x,test_y)"
   ]
  },
  {
   "cell_type": "code",
   "execution_count": 43,
   "metadata": {},
   "outputs": [
    {
     "name": "stdout",
     "output_type": "stream",
     "text": [
      "62\n",
      "4179\n"
     ]
    }
   ],
   "source": [
    "test2=np.array([4479,4350266,152352,300])\n",
    "test2=test2.reshape(1,-1)\n",
    "t2=regressor.predict(test2)\n",
    "n2=t2[0]\n",
    "d2=test2[0][0]-test2[0][3]\n",
    "print(round(n2))\n",
    "print(d2)\n"
   ]
  },
  {
   "cell_type": "code",
   "execution_count": 44,
   "metadata": {},
   "outputs": [
    {
     "name": "stdout",
     "output_type": "stream",
     "text": [
      "Death percentage predicted for given data is 1.48\n"
     ]
    }
   ],
   "source": [
    "print('Death percentage predicted for given data is',round(((n2/d2)*100),2))"
   ]
  },
  {
   "cell_type": "markdown",
   "metadata": {},
   "source": [
    "## RandomForest Regressor "
   ]
  },
  {
   "cell_type": "code",
   "execution_count": 45,
   "metadata": {},
   "outputs": [
    {
     "data": {
      "text/plain": [
       "RandomForestRegressor(max_depth=10, random_state=0)"
      ]
     },
     "execution_count": 45,
     "metadata": {},
     "output_type": "execute_result"
    }
   ],
   "source": [
    "regr=RandomForestRegressor(max_depth=10,random_state=0,n_estimators=100)\n",
    "regr.fit(train_x,train_y)"
   ]
  },
  {
   "cell_type": "code",
   "execution_count": 46,
   "metadata": {},
   "outputs": [
    {
     "data": {
      "text/plain": [
       "6.330807520206957"
      ]
     },
     "execution_count": 46,
     "metadata": {},
     "output_type": "execute_result"
    }
   ],
   "source": [
    "prediction3=regr.predict(test_x)\n",
    "err=math.sqrt(mean_squared_error(test_y,prediction3))\n",
    "err"
   ]
  },
  {
   "cell_type": "code",
   "execution_count": 47,
   "metadata": {
    "scrolled": true
   },
   "outputs": [
    {
     "data": {
      "text/html": [
       "<div>\n",
       "<style scoped>\n",
       "    .dataframe tbody tr th:only-of-type {\n",
       "        vertical-align: middle;\n",
       "    }\n",
       "\n",
       "    .dataframe tbody tr th {\n",
       "        vertical-align: top;\n",
       "    }\n",
       "\n",
       "    .dataframe thead th {\n",
       "        text-align: right;\n",
       "    }\n",
       "</style>\n",
       "<table border=\"1\" class=\"dataframe\">\n",
       "  <thead>\n",
       "    <tr style=\"text-align: right;\">\n",
       "      <th></th>\n",
       "      <th>actual</th>\n",
       "      <th>prediction</th>\n",
       "      <th>diff</th>\n",
       "    </tr>\n",
       "  </thead>\n",
       "  <tbody>\n",
       "    <tr>\n",
       "      <th>13</th>\n",
       "      <td>83</td>\n",
       "      <td>64.890000</td>\n",
       "      <td>18.110000</td>\n",
       "    </tr>\n",
       "    <tr>\n",
       "      <th>2</th>\n",
       "      <td>94</td>\n",
       "      <td>83.040000</td>\n",
       "      <td>10.960000</td>\n",
       "    </tr>\n",
       "    <tr>\n",
       "      <th>25</th>\n",
       "      <td>35</td>\n",
       "      <td>34.890000</td>\n",
       "      <td>0.110000</td>\n",
       "    </tr>\n",
       "    <tr>\n",
       "      <th>16</th>\n",
       "      <td>52</td>\n",
       "      <td>54.490000</td>\n",
       "      <td>-2.490000</td>\n",
       "    </tr>\n",
       "    <tr>\n",
       "      <th>19</th>\n",
       "      <td>48</td>\n",
       "      <td>41.950000</td>\n",
       "      <td>6.050000</td>\n",
       "    </tr>\n",
       "    <tr>\n",
       "      <th>41</th>\n",
       "      <td>12</td>\n",
       "      <td>17.374865</td>\n",
       "      <td>-5.374865</td>\n",
       "    </tr>\n",
       "    <tr>\n",
       "      <th>5</th>\n",
       "      <td>74</td>\n",
       "      <td>77.050000</td>\n",
       "      <td>-3.050000</td>\n",
       "    </tr>\n",
       "    <tr>\n",
       "      <th>24</th>\n",
       "      <td>40</td>\n",
       "      <td>43.030000</td>\n",
       "      <td>-3.030000</td>\n",
       "    </tr>\n",
       "    <tr>\n",
       "      <th>83</th>\n",
       "      <td>8</td>\n",
       "      <td>16.431813</td>\n",
       "      <td>-8.431813</td>\n",
       "    </tr>\n",
       "    <tr>\n",
       "      <th>20</th>\n",
       "      <td>39</td>\n",
       "      <td>40.980000</td>\n",
       "      <td>-1.980000</td>\n",
       "    </tr>\n",
       "    <tr>\n",
       "      <th>65</th>\n",
       "      <td>13</td>\n",
       "      <td>10.965141</td>\n",
       "      <td>2.034859</td>\n",
       "    </tr>\n",
       "    <tr>\n",
       "      <th>80</th>\n",
       "      <td>15</td>\n",
       "      <td>11.226251</td>\n",
       "      <td>3.773749</td>\n",
       "    </tr>\n",
       "    <tr>\n",
       "      <th>34</th>\n",
       "      <td>18</td>\n",
       "      <td>23.300000</td>\n",
       "      <td>-5.300000</td>\n",
       "    </tr>\n",
       "    <tr>\n",
       "      <th>116</th>\n",
       "      <td>44</td>\n",
       "      <td>47.470000</td>\n",
       "      <td>-3.470000</td>\n",
       "    </tr>\n",
       "    <tr>\n",
       "      <th>78</th>\n",
       "      <td>14</td>\n",
       "      <td>11.592434</td>\n",
       "      <td>2.407566</td>\n",
       "    </tr>\n",
       "    <tr>\n",
       "      <th>118</th>\n",
       "      <td>44</td>\n",
       "      <td>47.700000</td>\n",
       "      <td>-3.700000</td>\n",
       "    </tr>\n",
       "    <tr>\n",
       "      <th>10</th>\n",
       "      <td>82</td>\n",
       "      <td>67.490000</td>\n",
       "      <td>14.510000</td>\n",
       "    </tr>\n",
       "    <tr>\n",
       "      <th>12</th>\n",
       "      <td>63</td>\n",
       "      <td>60.990000</td>\n",
       "      <td>2.010000</td>\n",
       "    </tr>\n",
       "    <tr>\n",
       "      <th>93</th>\n",
       "      <td>16</td>\n",
       "      <td>17.405833</td>\n",
       "      <td>-1.405833</td>\n",
       "    </tr>\n",
       "    <tr>\n",
       "      <th>26</th>\n",
       "      <td>33</td>\n",
       "      <td>27.580000</td>\n",
       "      <td>5.420000</td>\n",
       "    </tr>\n",
       "    <tr>\n",
       "      <th>98</th>\n",
       "      <td>25</td>\n",
       "      <td>21.640000</td>\n",
       "      <td>3.360000</td>\n",
       "    </tr>\n",
       "    <tr>\n",
       "      <th>102</th>\n",
       "      <td>35</td>\n",
       "      <td>31.600000</td>\n",
       "      <td>3.400000</td>\n",
       "    </tr>\n",
       "    <tr>\n",
       "      <th>86</th>\n",
       "      <td>17</td>\n",
       "      <td>16.434861</td>\n",
       "      <td>0.565139</td>\n",
       "    </tr>\n",
       "    <tr>\n",
       "      <th>119</th>\n",
       "      <td>51</td>\n",
       "      <td>46.360000</td>\n",
       "      <td>4.640000</td>\n",
       "    </tr>\n",
       "    <tr>\n",
       "      <th>85</th>\n",
       "      <td>20</td>\n",
       "      <td>15.522212</td>\n",
       "      <td>4.477788</td>\n",
       "    </tr>\n",
       "  </tbody>\n",
       "</table>\n",
       "</div>"
      ],
      "text/plain": [
       "     actual  prediction       diff\n",
       "13       83   64.890000  18.110000\n",
       "2        94   83.040000  10.960000\n",
       "25       35   34.890000   0.110000\n",
       "16       52   54.490000  -2.490000\n",
       "19       48   41.950000   6.050000\n",
       "41       12   17.374865  -5.374865\n",
       "5        74   77.050000  -3.050000\n",
       "24       40   43.030000  -3.030000\n",
       "83        8   16.431813  -8.431813\n",
       "20       39   40.980000  -1.980000\n",
       "65       13   10.965141   2.034859\n",
       "80       15   11.226251   3.773749\n",
       "34       18   23.300000  -5.300000\n",
       "116      44   47.470000  -3.470000\n",
       "78       14   11.592434   2.407566\n",
       "118      44   47.700000  -3.700000\n",
       "10       82   67.490000  14.510000\n",
       "12       63   60.990000   2.010000\n",
       "93       16   17.405833  -1.405833\n",
       "26       33   27.580000   5.420000\n",
       "98       25   21.640000   3.360000\n",
       "102      35   31.600000   3.400000\n",
       "86       17   16.434861   0.565139\n",
       "119      51   46.360000   4.640000\n",
       "85       20   15.522212   4.477788"
      ]
     },
     "execution_count": 47,
     "metadata": {},
     "output_type": "execute_result"
    }
   ],
   "source": [
    "pd.DataFrame({'actual':test_y,'prediction':prediction3,'diff':(test_y-prediction3)})"
   ]
  },
  {
   "cell_type": "code",
   "execution_count": 48,
   "metadata": {},
   "outputs": [
    {
     "data": {
      "text/plain": [
       "0.9318474971808105"
      ]
     },
     "execution_count": 48,
     "metadata": {},
     "output_type": "execute_result"
    }
   ],
   "source": [
    "regr.score(test_x,test_y)"
   ]
  },
  {
   "cell_type": "code",
   "execution_count": 49,
   "metadata": {},
   "outputs": [
    {
     "name": "stdout",
     "output_type": "stream",
     "text": [
      "55\n",
      "4179\n"
     ]
    }
   ],
   "source": [
    "test3=np.array([4479,4350266,152352,300])\n",
    "test3=test3.reshape(1,-1)\n",
    "t3=regr.predict(test3)\n",
    "n3=t3[0]\n",
    "d3=test3[0][0]-test3[0][3]\n",
    "print(round(n3))\n",
    "print(d3)"
   ]
  },
  {
   "cell_type": "code",
   "execution_count": 50,
   "metadata": {},
   "outputs": [
    {
     "name": "stdout",
     "output_type": "stream",
     "text": [
      "Death percentage predicted for given data is 1.31\n"
     ]
    }
   ],
   "source": [
    "print('Death percentage predicted for given data is',round(((n3/d3)*100),2))"
   ]
  },
  {
   "cell_type": "code",
   "execution_count": null,
   "metadata": {},
   "outputs": [],
   "source": []
  }
 ],
 "metadata": {
  "kernelspec": {
   "display_name": "Python 3",
   "language": "python",
   "name": "python3"
  },
  "language_info": {
   "codemirror_mode": {
    "name": "ipython",
    "version": 3
   },
   "file_extension": ".py",
   "mimetype": "text/x-python",
   "name": "python",
   "nbconvert_exporter": "python",
   "pygments_lexer": "ipython3",
   "version": "3.8.5"
  }
 },
 "nbformat": 4,
 "nbformat_minor": 5
}
